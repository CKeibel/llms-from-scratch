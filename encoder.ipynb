{
 "cells": [
  {
   "cell_type": "markdown",
   "id": "352e7926-cf90-44f9-bc68-a1445b8b9035",
   "metadata": {},
   "source": [
    "# Encoder (BERT type model)"
   ]
  },
  {
   "cell_type": "markdown",
   "id": "2118c5a7-d1dd-42c2-80ef-1af889ab7bb7",
   "metadata": {},
   "source": [
    "**Source**: [Natural Language Processing with Transformers by Lewis Tunstall, Leandro von Werra, Thomas Wolf](https://transformersbook.com/)"
   ]
  },
  {
   "cell_type": "code",
   "execution_count": 1,
   "id": "8ef5a208-d694-48b9-b94f-d006422b19f3",
   "metadata": {},
   "outputs": [],
   "source": [
    "from math import sqrt\n",
    "import torch\n",
    "from torch import nn\n",
    "import torch.nn.functional as F\n",
    "from transformers import AutoConfig, AutoTokenizer"
   ]
  },
  {
   "cell_type": "code",
   "execution_count": 2,
   "id": "a7de1f63-6fee-455d-b124-21deee041bc5",
   "metadata": {},
   "outputs": [
    {
     "data": {
      "text/plain": [
       "BertConfig {\n",
       "  \"_name_or_path\": \"bert-base-uncased\",\n",
       "  \"architectures\": [\n",
       "    \"BertForMaskedLM\"\n",
       "  ],\n",
       "  \"attention_probs_dropout_prob\": 0.1,\n",
       "  \"classifier_dropout\": null,\n",
       "  \"gradient_checkpointing\": false,\n",
       "  \"hidden_act\": \"gelu\",\n",
       "  \"hidden_dropout_prob\": 0.1,\n",
       "  \"hidden_size\": 768,\n",
       "  \"initializer_range\": 0.02,\n",
       "  \"intermediate_size\": 3072,\n",
       "  \"layer_norm_eps\": 1e-12,\n",
       "  \"max_position_embeddings\": 512,\n",
       "  \"model_type\": \"bert\",\n",
       "  \"num_attention_heads\": 12,\n",
       "  \"num_hidden_layers\": 12,\n",
       "  \"pad_token_id\": 0,\n",
       "  \"position_embedding_type\": \"absolute\",\n",
       "  \"transformers_version\": \"4.38.2\",\n",
       "  \"type_vocab_size\": 2,\n",
       "  \"use_cache\": true,\n",
       "  \"vocab_size\": 30522\n",
       "}"
      ]
     },
     "execution_count": 2,
     "metadata": {},
     "output_type": "execute_result"
    }
   ],
   "source": [
    "model_id = \"bert-base-uncased\"\n",
    "bert_config = AutoConfig.from_pretrained(model_id)\n",
    "tokenizer = AutoTokenizer.from_pretrained(model_id)\n",
    "bert_config"
   ]
  },
  {
   "cell_type": "markdown",
   "id": "669bcc7d-0a8f-4660-9a98-20ca0486991e",
   "metadata": {},
   "source": [
    "## Tokenization"
   ]
  },
  {
   "cell_type": "code",
   "execution_count": 3,
   "id": "7a86051d-c897-4a0b-9b06-f8ee2bb9b6e1",
   "metadata": {},
   "outputs": [
    {
     "data": {
      "text/plain": [
       "['[CLS]', 'hello', 'transformers', '!', '[SEP]']"
      ]
     },
     "execution_count": 3,
     "metadata": {},
     "output_type": "execute_result"
    }
   ],
   "source": [
    "input_text = \"Hello Transformers!\"\n",
    "\n",
    "# Tokenized input\n",
    "tokenizer.tokenize(input_text, add_special_tokens=True)"
   ]
  },
  {
   "cell_type": "code",
   "execution_count": 4,
   "id": "23f293f5-502d-450c-a26d-2147fefa1461",
   "metadata": {},
   "outputs": [
    {
     "data": {
      "text/plain": [
       "tensor([[  101,  7592, 19081,   999,   102]])"
      ]
     },
     "execution_count": 4,
     "metadata": {},
     "output_type": "execute_result"
    }
   ],
   "source": [
    "# Token ids\n",
    "tokenized_input = tokenizer(input_text, return_tensors=\"pt\").input_ids\n",
    "tokenized_input"
   ]
  },
  {
   "cell_type": "code",
   "execution_count": 5,
   "id": "9dccb42d-3036-44f6-818d-77656e9ebd4e",
   "metadata": {},
   "outputs": [
    {
     "name": "stdout",
     "output_type": "stream",
     "text": [
      "101 -> [CLS]\n",
      "7592 -> hello\n",
      "19081 -> transformers\n",
      "999 -> !\n",
      "102 -> [SEP]\n"
     ]
    }
   ],
   "source": [
    "# Corresponding ids to tokens\n",
    "for i in tokenized_input[0]:\n",
    "    print(f\"{i} -> {tokenizer.decode(i)}\")"
   ]
  },
  {
   "cell_type": "markdown",
   "id": "7491f1f1-a290-47a0-aa63-e03f6255aa3b",
   "metadata": {},
   "source": [
    "## Token embeddings"
   ]
  },
  {
   "cell_type": "code",
   "execution_count": 6,
   "id": "824951e1-540d-4e99-a9f5-9f760a58dafc",
   "metadata": {},
   "outputs": [
    {
     "name": "stdout",
     "output_type": "stream",
     "text": [
      "Vocabulary size: 30522\n",
      "Hidden/Embedding size: 768\n",
      "Embedding matrix: Embedding(30522, 768)\n"
     ]
    }
   ],
   "source": [
    "token_embed = nn.Embedding(bert_config.vocab_size, bert_config.hidden_size)\n",
    "\n",
    "print(f\"Vocabulary size: {bert_config.vocab_size}\")\n",
    "print(f\"Hidden/Embedding size: {bert_config.hidden_size}\")\n",
    "print(f\"Embedding matrix: {token_embed}\")"
   ]
  },
  {
   "cell_type": "code",
   "execution_count": 7,
   "id": "aa7a44b5-1abe-4ed2-ad70-33cd52c9d596",
   "metadata": {},
   "outputs": [
    {
     "name": "stdout",
     "output_type": "stream",
     "text": [
      "Tokenized shape: torch.Size([1, 5])\n",
      "Embedded shape: torch.Size([1, 5, 768])\n"
     ]
    }
   ],
   "source": [
    "# embedd input tokens\n",
    "token_embeddings = token_embed(tokenized_input)\n",
    "print(f\"Tokenized shape: {tokenized_input.shape}\")\n",
    "print(f\"Embedded shape: {token_embeddings.shape}\") # batch_size, input_length, embedding_dim"
   ]
  },
  {
   "cell_type": "markdown",
   "id": "01bf864a-add4-4658-ad08-9f4e345b6e37",
   "metadata": {},
   "source": [
    "## Scaled dot-product attention (self-attention)"
   ]
  },
  {
   "cell_type": "code",
   "execution_count": 8,
   "id": "b840e46b-588b-4b0b-8424-3f01f137cb24",
   "metadata": {},
   "outputs": [],
   "source": [
    "def scaled_dot_product_attention(query, key, value):\n",
    "    \"\"\"Function to calculate self attention.\"\"\"\n",
    "    # scaling factor\n",
    "    dim_k = key.size(-1)\n",
    "    # attention scores: (5x768)*(5x768)^T=(5x5)\n",
    "    scores = torch.bmm(key, query.transpose(1, 2)) / sqrt(dim_k) # batch_size, input_length, input_length\n",
    "    # attention weights\n",
    "    weigths = F.softmax(scores, dim=-1)\n",
    "    # (5x5)*(5x768)=(5x768)\n",
    "    return torch.bmm(weigths, value) # batch_size, input_length, hidden_size"
   ]
  },
  {
   "cell_type": "code",
   "execution_count": 9,
   "id": "9aac911f-02cd-4987-82cf-4a3a26b5e546",
   "metadata": {},
   "outputs": [
    {
     "data": {
      "text/plain": [
       "torch.Size([1, 5, 768])"
      ]
     },
     "execution_count": 9,
     "metadata": {},
     "output_type": "execute_result"
    }
   ],
   "source": [
    "self_attention = scaled_dot_product_attention(token_embeddings, token_embeddings, token_embeddings)\n",
    "self_attention.shape"
   ]
  },
  {
   "cell_type": "markdown",
   "id": "d96887c6-fbf4-4b25-9da9-fe4b73ea4b76",
   "metadata": {},
   "source": [
    "## Multi-headed attention"
   ]
  },
  {
   "cell_type": "code",
   "execution_count": 10,
   "id": "3cf94d07-0c91-476e-8994-ae2203a721f7",
   "metadata": {},
   "outputs": [],
   "source": [
    "class AttentionHead(nn.Module):\n",
    "    \"\"\"Single self attention head.\"\"\"\n",
    "    def __init__(self, embed_dim, head_dim):\n",
    "        super(AttentionHead, self).__init__()\n",
    "        self.query = nn.Linear(embed_dim, head_dim)\n",
    "        self.key = nn.Linear(embed_dim, head_dim)\n",
    "        self.value = nn.Linear(embed_dim, head_dim)\n",
    "\n",
    "    def forward(self, inputs):\n",
    "        return scaled_dot_product_attention(\n",
    "            self.query(inputs), self.key(inputs), self.value(inputs)\n",
    "        )"
   ]
  },
  {
   "cell_type": "code",
   "execution_count": 11,
   "id": "aac1988e-6711-469d-b20e-e08d4072accd",
   "metadata": {},
   "outputs": [],
   "source": [
    "class MultiHeadAttention(nn.Module):\n",
    "    \"\"\"Multi-headed attention through multiple AttentionHeads.\"\"\"\n",
    "    def __init__(self, config):\n",
    "        super(MultiHeadAttention, self).__init__()\n",
    "        self.embed_dim = config.hidden_size\n",
    "        self.num_heads = config.num_attention_heads\n",
    "        \n",
    "        # split input into smaller pieces to enable different heads attend to different parts\n",
    "        self.head_dim = self.embed_dim // self.num_heads\n",
    "        self.heads = nn.ModuleList([AttentionHead(self.embed_dim, self.head_dim) for _ in range(self.num_heads)])\n",
    "        \n",
    "        self.output_linear = nn.Linear(self.embed_dim, self.embed_dim)\n",
    "\n",
    "    def forward(self, inputs):\n",
    "        x = torch.cat([h(inputs) for h in self.heads], dim=-1) # call self-attention heads\n",
    "        return self.output_linear(x)"
   ]
  },
  {
   "cell_type": "code",
   "execution_count": 12,
   "id": "4916c1e1-0791-4c70-85b0-80aa3407eb95",
   "metadata": {},
   "outputs": [
    {
     "data": {
      "text/plain": [
       "torch.Size([1, 5, 768])"
      ]
     },
     "execution_count": 12,
     "metadata": {},
     "output_type": "execute_result"
    }
   ],
   "source": [
    "multi_head_attn = MultiHeadAttention(bert_config)\n",
    "outputs = multi_head_attn(token_embeddings)\n",
    "outputs.shape"
   ]
  },
  {
   "cell_type": "markdown",
   "id": "9cf3b748-feb9-4b71-902c-2709120b6c90",
   "metadata": {},
   "source": [
    "## Position-wise feed forward-layer"
   ]
  },
  {
   "cell_type": "code",
   "execution_count": 13,
   "id": "3f18b3b9-7805-4778-bd0d-614ac36b5f1a",
   "metadata": {},
   "outputs": [],
   "source": [
    "class PositionwiseFeedForward(nn.Module):\n",
    "    def __init__(self, config):\n",
    "        super(PositionwiseFeedForward, self).__init__()\n",
    "        self.linear_1 = nn.Linear(config.hidden_size, config.intermediate_size)\n",
    "        self.linear_2 = nn.Linear(config.intermediate_size, config.hidden_size)\n",
    "        self.gelu = nn.GELU()\n",
    "        self.dropout = nn.Dropout(config.hidden_dropout_prob)\n",
    "\n",
    "    def forward(self, inputs):\n",
    "        x = self.linear_1(inputs)\n",
    "        x = self.gelu(x)\n",
    "        x = self.linear_2(x)\n",
    "        return self.dropout(x)"
   ]
  },
  {
   "cell_type": "code",
   "execution_count": 14,
   "id": "61e84cbc-acb2-44cb-b15f-a131aec7abbd",
   "metadata": {},
   "outputs": [
    {
     "data": {
      "text/plain": [
       "torch.Size([1, 5, 768])"
      ]
     },
     "execution_count": 14,
     "metadata": {},
     "output_type": "execute_result"
    }
   ],
   "source": [
    "ff = PositionwiseFeedForward(bert_config)\n",
    "outputs = ff(token_embeddings)\n",
    "outputs.shape"
   ]
  },
  {
   "cell_type": "markdown",
   "id": "6527e36e-c3d6-4047-847f-f1229d056c84",
   "metadata": {},
   "source": [
    "## Encoder layer"
   ]
  },
  {
   "cell_type": "code",
   "execution_count": 15,
   "id": "b2fbd14d-20b5-4e01-a2ff-a4578198c256",
   "metadata": {},
   "outputs": [],
   "source": [
    "class EncoderLayer(nn.Module):\n",
    "    def __init__(self, config):\n",
    "        super(EncoderLayer, self).__init__()\n",
    "        self.layer_norm_1 = nn.LayerNorm(config.hidden_size)\n",
    "        self.layer_norm_2 = nn.LayerNorm(config.hidden_size)\n",
    "        self.attention = MultiHeadAttention(config)\n",
    "        self.ff = PositionwiseFeedForward(config)\n",
    "\n",
    "    def forward(self, inputs):\n",
    "        \"\"\" Pre layer normalization:\n",
    "        \n",
    "        inputs -+-> norm_1 -> attention -- + -- +-> norm_2 -> feed-forward -- + --> outputs\n",
    "                +---- skip-connection -----+    +------ skip-connection ------+\n",
    "        \"\"\"\n",
    "        # block 1\n",
    "        norm_1 = self.layer_norm_1(inputs) # normalization\n",
    "        x = inputs + self.attention(norm_1) # attention + skip-conncetion\n",
    "        # block 2\n",
    "        norm_2 = self.layer_norm_2(x) # normalization\n",
    "        x = x + self.ff(norm_2) # feed-forward + skip-connection\n",
    "        return x"
   ]
  },
  {
   "cell_type": "code",
   "execution_count": 16,
   "id": "d443800c-bd45-44fe-9eab-4033c8bbe4cf",
   "metadata": {},
   "outputs": [
    {
     "data": {
      "text/plain": [
       "torch.Size([1, 5, 768])"
      ]
     },
     "execution_count": 16,
     "metadata": {},
     "output_type": "execute_result"
    }
   ],
   "source": [
    "encoder_layer = EncoderLayer(bert_config)\n",
    "outputs = encoder_layer(token_embeddings)\n",
    "outputs.shape"
   ]
  },
  {
   "cell_type": "markdown",
   "id": "1be3ff09-533b-4e46-bc98-0f4b4918d653",
   "metadata": {},
   "source": [
    "## Positional encodings"
   ]
  },
  {
   "cell_type": "code",
   "execution_count": 17,
   "id": "d81077bd-f750-4534-9467-af21abbd8c25",
   "metadata": {},
   "outputs": [],
   "source": [
    "class Embeddings(nn.Module):\n",
    "    def __init__(self, config):\n",
    "        super(Embeddings, self).__init__()\n",
    "        self.token_embed = nn.Embedding(config.vocab_size, config.hidden_size)\n",
    "        self.position_embed = nn.Embedding(config.max_position_embeddings, config.hidden_size)\n",
    "        self.layer_norm = nn.LayerNorm(config.hidden_size, eps=config.layer_norm_eps)\n",
    "        self.dropout = nn.Dropout()\n",
    "\n",
    "    def forward(self, inputs):\n",
    "        # create position ids\n",
    "        seq_len = inputs.size(1)\n",
    "        position_ids = torch.arange(seq_len, dtype=torch.long).unsqueeze(0)\n",
    "        # create embeddings\n",
    "        token_embeddings = self.token_embed(inputs)\n",
    "        position_embeddings = self.position_embed(position_ids)\n",
    "        embeddings = token_embeddings + position_embeddings\n",
    "        embeddings = self.layer_norm(embeddings)\n",
    "        return self.dropout(embeddings)"
   ]
  },
  {
   "cell_type": "code",
   "execution_count": 18,
   "id": "9e55fbcc-6279-4e50-beea-5f6055467daa",
   "metadata": {},
   "outputs": [
    {
     "data": {
      "text/plain": [
       "torch.Size([1, 5, 768])"
      ]
     },
     "execution_count": 18,
     "metadata": {},
     "output_type": "execute_result"
    }
   ],
   "source": [
    "embed = Embeddings(bert_config)\n",
    "outputs = embed(tokenized_input)\n",
    "outputs.shape"
   ]
  },
  {
   "cell_type": "markdown",
   "id": "d0ad3c16-cb5a-4a58-95a3-a1d3e1f2dd4f",
   "metadata": {},
   "source": [
    "## Transformer encoder"
   ]
  },
  {
   "cell_type": "code",
   "execution_count": 19,
   "id": "dd4e3cf3-0f53-493d-98ea-2f5bb0c02bc7",
   "metadata": {},
   "outputs": [],
   "source": [
    "class TransformerEncoder(nn.Module):\n",
    "    def __init__(self, config):\n",
    "        super(TransformerEncoder, self).__init__()\n",
    "        self.embeddings = Embeddings(config)\n",
    "        self.encoder_layers = nn.ModuleList([EncoderLayer(config) for _ in range(config.num_hidden_layers)])\n",
    "\n",
    "    def forward(self, inputs):\n",
    "        x = self.embeddings(inputs)\n",
    "        for layer in self.encoder_layers:\n",
    "            x = layer(x)\n",
    "        return x"
   ]
  },
  {
   "cell_type": "code",
   "execution_count": 20,
   "id": "f7775c4f-bd9f-4ac2-8ea3-239a79969c47",
   "metadata": {},
   "outputs": [
    {
     "data": {
      "text/plain": [
       "torch.Size([1, 5, 768])"
      ]
     },
     "execution_count": 20,
     "metadata": {},
     "output_type": "execute_result"
    }
   ],
   "source": [
    "encoder = TransformerEncoder(bert_config)\n",
    "outputs = encoder(tokenized_input)\n",
    "outputs.shape"
   ]
  }
 ],
 "metadata": {
  "kernelspec": {
   "display_name": ".llms",
   "language": "python",
   "name": ".llms"
  },
  "language_info": {
   "codemirror_mode": {
    "name": "ipython",
    "version": 3
   },
   "file_extension": ".py",
   "mimetype": "text/x-python",
   "name": "python",
   "nbconvert_exporter": "python",
   "pygments_lexer": "ipython3",
   "version": "3.11.5"
  }
 },
 "nbformat": 4,
 "nbformat_minor": 5
}
